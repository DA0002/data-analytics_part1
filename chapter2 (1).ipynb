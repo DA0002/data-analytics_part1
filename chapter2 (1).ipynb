{
 "cells": [
  {
   "cell_type": "code",
   "execution_count": 1,
   "id": "6e482a6e",
   "metadata": {},
   "outputs": [],
   "source": [
    "import pandas as pd\n",
    "import numpy as np"
   ]
  },
  {
   "cell_type": "code",
   "execution_count": 2,
   "id": "88ed4705",
   "metadata": {},
   "outputs": [
    {
     "data": {
      "text/plain": [
       "DatetimeIndex(['2022-10-16', '2022-10-17', '2022-10-18', '2022-10-19',\n",
       "               '2022-10-20', '2022-10-21'],\n",
       "              dtype='datetime64[ns]', freq='D')"
      ]
     },
     "execution_count": 2,
     "metadata": {},
     "output_type": "execute_result"
    }
   ],
   "source": [
    "dates = pd.date_range('20221016', periods=6)\n",
    "dates"
   ]
  },
  {
   "cell_type": "code",
   "execution_count": null,
   "id": "387326ec",
   "metadata": {},
   "outputs": [],
   "source": [
    "# 날짜 생성 함수"
   ]
  },
  {
   "cell_type": "code",
   "execution_count": 3,
   "id": "b4f3f1b8",
   "metadata": {},
   "outputs": [
    {
     "data": {
      "text/html": [
       "<div>\n",
       "<style scoped>\n",
       "    .dataframe tbody tr th:only-of-type {\n",
       "        vertical-align: middle;\n",
       "    }\n",
       "\n",
       "    .dataframe tbody tr th {\n",
       "        vertical-align: top;\n",
       "    }\n",
       "\n",
       "    .dataframe thead th {\n",
       "        text-align: right;\n",
       "    }\n",
       "</style>\n",
       "<table border=\"1\" class=\"dataframe\">\n",
       "  <thead>\n",
       "    <tr style=\"text-align: right;\">\n",
       "      <th></th>\n",
       "      <th>a</th>\n",
       "      <th>b</th>\n",
       "      <th>c</th>\n",
       "      <th>d</th>\n",
       "    </tr>\n",
       "  </thead>\n",
       "  <tbody>\n",
       "    <tr>\n",
       "      <th>2022-10-16</th>\n",
       "      <td>1.752253</td>\n",
       "      <td>-1.453679</td>\n",
       "      <td>-0.801321</td>\n",
       "      <td>0.109509</td>\n",
       "    </tr>\n",
       "    <tr>\n",
       "      <th>2022-10-17</th>\n",
       "      <td>1.379998</td>\n",
       "      <td>0.541693</td>\n",
       "      <td>0.376423</td>\n",
       "      <td>-0.413929</td>\n",
       "    </tr>\n",
       "    <tr>\n",
       "      <th>2022-10-18</th>\n",
       "      <td>0.030693</td>\n",
       "      <td>-1.597041</td>\n",
       "      <td>1.101697</td>\n",
       "      <td>-0.880073</td>\n",
       "    </tr>\n",
       "    <tr>\n",
       "      <th>2022-10-19</th>\n",
       "      <td>-0.479214</td>\n",
       "      <td>-1.074528</td>\n",
       "      <td>0.341792</td>\n",
       "      <td>-0.826257</td>\n",
       "    </tr>\n",
       "    <tr>\n",
       "      <th>2022-10-20</th>\n",
       "      <td>1.189338</td>\n",
       "      <td>0.531700</td>\n",
       "      <td>-0.020555</td>\n",
       "      <td>0.387701</td>\n",
       "    </tr>\n",
       "    <tr>\n",
       "      <th>2022-10-21</th>\n",
       "      <td>-1.623308</td>\n",
       "      <td>1.510665</td>\n",
       "      <td>1.131091</td>\n",
       "      <td>1.535374</td>\n",
       "    </tr>\n",
       "  </tbody>\n",
       "</table>\n",
       "</div>"
      ],
      "text/plain": [
       "                   a         b         c         d\n",
       "2022-10-16  1.752253 -1.453679 -0.801321  0.109509\n",
       "2022-10-17  1.379998  0.541693  0.376423 -0.413929\n",
       "2022-10-18  0.030693 -1.597041  1.101697 -0.880073\n",
       "2022-10-19 -0.479214 -1.074528  0.341792 -0.826257\n",
       "2022-10-20  1.189338  0.531700 -0.020555  0.387701\n",
       "2022-10-21 -1.623308  1.510665  1.131091  1.535374"
      ]
     },
     "execution_count": 3,
     "metadata": {},
     "output_type": "execute_result"
    }
   ],
   "source": [
    "df = pd.DataFrame(np.random.randn(6,4), index= dates, columns=['a','b','c','d'])\n",
    "df"
   ]
  },
  {
   "cell_type": "code",
   "execution_count": null,
   "id": "2fecb65e",
   "metadata": {},
   "outputs": [],
   "source": [
    "# random 변수를 통해 dataFrame 생성 values : random 변수/ index : 행 / columns : 열 "
   ]
  },
  {
   "cell_type": "code",
   "execution_count": null,
   "id": "383ae0e6",
   "metadata": {},
   "outputs": [],
   "source": [
    "# 데이터 확인"
   ]
  },
  {
   "cell_type": "code",
   "execution_count": 4,
   "id": "ab16734a",
   "metadata": {},
   "outputs": [
    {
     "data": {
      "text/plain": [
       "Index(['a', 'b', 'c', 'd'], dtype='object')"
      ]
     },
     "execution_count": 4,
     "metadata": {},
     "output_type": "execute_result"
    }
   ],
   "source": [
    "df.columns"
   ]
  },
  {
   "cell_type": "code",
   "execution_count": 5,
   "id": "7dfcc2e0",
   "metadata": {},
   "outputs": [
    {
     "data": {
      "text/plain": [
       "DatetimeIndex(['2022-10-16', '2022-10-17', '2022-10-18', '2022-10-19',\n",
       "               '2022-10-20', '2022-10-21'],\n",
       "              dtype='datetime64[ns]', freq='D')"
      ]
     },
     "execution_count": 5,
     "metadata": {},
     "output_type": "execute_result"
    }
   ],
   "source": [
    "df.index"
   ]
  },
  {
   "cell_type": "code",
   "execution_count": 6,
   "id": "9a8c7368",
   "metadata": {},
   "outputs": [
    {
     "data": {
      "text/plain": [
       "array([[ 1.7522535 , -1.45367887, -0.80132082,  0.10950874],\n",
       "       [ 1.37999809,  0.54169289,  0.37642289, -0.41392863],\n",
       "       [ 0.03069284, -1.59704073,  1.10169718, -0.88007302],\n",
       "       [-0.47921402, -1.07452811,  0.34179203, -0.82625748],\n",
       "       [ 1.18933797,  0.5317    , -0.02055494,  0.38770053],\n",
       "       [-1.62330779,  1.51066505,  1.131091  ,  1.53537377]])"
      ]
     },
     "execution_count": 6,
     "metadata": {},
     "output_type": "execute_result"
    }
   ],
   "source": [
    "df.values"
   ]
  },
  {
   "cell_type": "code",
   "execution_count": null,
   "id": "1dbda710",
   "metadata": {},
   "outputs": [],
   "source": [
    "#정렬 기능 등의 기초 활용 함수"
   ]
  },
  {
   "cell_type": "code",
   "execution_count": 7,
   "id": "30a91238",
   "metadata": {},
   "outputs": [
    {
     "data": {
      "text/html": [
       "<div>\n",
       "<style scoped>\n",
       "    .dataframe tbody tr th:only-of-type {\n",
       "        vertical-align: middle;\n",
       "    }\n",
       "\n",
       "    .dataframe tbody tr th {\n",
       "        vertical-align: top;\n",
       "    }\n",
       "\n",
       "    .dataframe thead th {\n",
       "        text-align: right;\n",
       "    }\n",
       "</style>\n",
       "<table border=\"1\" class=\"dataframe\">\n",
       "  <thead>\n",
       "    <tr style=\"text-align: right;\">\n",
       "      <th></th>\n",
       "      <th>a</th>\n",
       "      <th>b</th>\n",
       "      <th>c</th>\n",
       "      <th>d</th>\n",
       "    </tr>\n",
       "  </thead>\n",
       "  <tbody>\n",
       "    <tr>\n",
       "      <th>count</th>\n",
       "      <td>6.000000</td>\n",
       "      <td>6.000000</td>\n",
       "      <td>6.000000</td>\n",
       "      <td>6.000000</td>\n",
       "    </tr>\n",
       "    <tr>\n",
       "      <th>mean</th>\n",
       "      <td>0.374960</td>\n",
       "      <td>-0.256865</td>\n",
       "      <td>0.354855</td>\n",
       "      <td>-0.014613</td>\n",
       "    </tr>\n",
       "    <tr>\n",
       "      <th>std</th>\n",
       "      <td>1.297032</td>\n",
       "      <td>1.286911</td>\n",
       "      <td>0.726447</td>\n",
       "      <td>0.910710</td>\n",
       "    </tr>\n",
       "    <tr>\n",
       "      <th>min</th>\n",
       "      <td>-1.623308</td>\n",
       "      <td>-1.597041</td>\n",
       "      <td>-0.801321</td>\n",
       "      <td>-0.880073</td>\n",
       "    </tr>\n",
       "    <tr>\n",
       "      <th>25%</th>\n",
       "      <td>-0.351737</td>\n",
       "      <td>-1.358891</td>\n",
       "      <td>0.070032</td>\n",
       "      <td>-0.723175</td>\n",
       "    </tr>\n",
       "    <tr>\n",
       "      <th>50%</th>\n",
       "      <td>0.610015</td>\n",
       "      <td>-0.271414</td>\n",
       "      <td>0.359107</td>\n",
       "      <td>-0.152210</td>\n",
       "    </tr>\n",
       "    <tr>\n",
       "      <th>75%</th>\n",
       "      <td>1.332333</td>\n",
       "      <td>0.539195</td>\n",
       "      <td>0.920379</td>\n",
       "      <td>0.318153</td>\n",
       "    </tr>\n",
       "    <tr>\n",
       "      <th>max</th>\n",
       "      <td>1.752253</td>\n",
       "      <td>1.510665</td>\n",
       "      <td>1.131091</td>\n",
       "      <td>1.535374</td>\n",
       "    </tr>\n",
       "  </tbody>\n",
       "</table>\n",
       "</div>"
      ],
      "text/plain": [
       "              a         b         c         d\n",
       "count  6.000000  6.000000  6.000000  6.000000\n",
       "mean   0.374960 -0.256865  0.354855 -0.014613\n",
       "std    1.297032  1.286911  0.726447  0.910710\n",
       "min   -1.623308 -1.597041 -0.801321 -0.880073\n",
       "25%   -0.351737 -1.358891  0.070032 -0.723175\n",
       "50%    0.610015 -0.271414  0.359107 -0.152210\n",
       "75%    1.332333  0.539195  0.920379  0.318153\n",
       "max    1.752253  1.510665  1.131091  1.535374"
      ]
     },
     "execution_count": 7,
     "metadata": {},
     "output_type": "execute_result"
    }
   ],
   "source": [
    "df.describe()"
   ]
  },
  {
   "cell_type": "code",
   "execution_count": null,
   "id": "c539d67e",
   "metadata": {},
   "outputs": [],
   "source": [
    "# 통계적 개요 : 개수, 평균, 표준편차, 최댓값/최솟값"
   ]
  },
  {
   "cell_type": "code",
   "execution_count": 8,
   "id": "57b153c4",
   "metadata": {},
   "outputs": [
    {
     "data": {
      "text/html": [
       "<div>\n",
       "<style scoped>\n",
       "    .dataframe tbody tr th:only-of-type {\n",
       "        vertical-align: middle;\n",
       "    }\n",
       "\n",
       "    .dataframe tbody tr th {\n",
       "        vertical-align: top;\n",
       "    }\n",
       "\n",
       "    .dataframe thead th {\n",
       "        text-align: right;\n",
       "    }\n",
       "</style>\n",
       "<table border=\"1\" class=\"dataframe\">\n",
       "  <thead>\n",
       "    <tr style=\"text-align: right;\">\n",
       "      <th></th>\n",
       "      <th>a</th>\n",
       "      <th>b</th>\n",
       "      <th>c</th>\n",
       "      <th>d</th>\n",
       "    </tr>\n",
       "  </thead>\n",
       "  <tbody>\n",
       "    <tr>\n",
       "      <th>2022-10-21</th>\n",
       "      <td>-1.623308</td>\n",
       "      <td>1.510665</td>\n",
       "      <td>1.131091</td>\n",
       "      <td>1.535374</td>\n",
       "    </tr>\n",
       "    <tr>\n",
       "      <th>2022-10-19</th>\n",
       "      <td>-0.479214</td>\n",
       "      <td>-1.074528</td>\n",
       "      <td>0.341792</td>\n",
       "      <td>-0.826257</td>\n",
       "    </tr>\n",
       "    <tr>\n",
       "      <th>2022-10-18</th>\n",
       "      <td>0.030693</td>\n",
       "      <td>-1.597041</td>\n",
       "      <td>1.101697</td>\n",
       "      <td>-0.880073</td>\n",
       "    </tr>\n",
       "    <tr>\n",
       "      <th>2022-10-20</th>\n",
       "      <td>1.189338</td>\n",
       "      <td>0.531700</td>\n",
       "      <td>-0.020555</td>\n",
       "      <td>0.387701</td>\n",
       "    </tr>\n",
       "    <tr>\n",
       "      <th>2022-10-17</th>\n",
       "      <td>1.379998</td>\n",
       "      <td>0.541693</td>\n",
       "      <td>0.376423</td>\n",
       "      <td>-0.413929</td>\n",
       "    </tr>\n",
       "    <tr>\n",
       "      <th>2022-10-16</th>\n",
       "      <td>1.752253</td>\n",
       "      <td>-1.453679</td>\n",
       "      <td>-0.801321</td>\n",
       "      <td>0.109509</td>\n",
       "    </tr>\n",
       "  </tbody>\n",
       "</table>\n",
       "</div>"
      ],
      "text/plain": [
       "                   a         b         c         d\n",
       "2022-10-21 -1.623308  1.510665  1.131091  1.535374\n",
       "2022-10-19 -0.479214 -1.074528  0.341792 -0.826257\n",
       "2022-10-18  0.030693 -1.597041  1.101697 -0.880073\n",
       "2022-10-20  1.189338  0.531700 -0.020555  0.387701\n",
       "2022-10-17  1.379998  0.541693  0.376423 -0.413929\n",
       "2022-10-16  1.752253 -1.453679 -0.801321  0.109509"
      ]
     },
     "execution_count": 8,
     "metadata": {},
     "output_type": "execute_result"
    }
   ],
   "source": [
    "df.sort_values(by='a')"
   ]
  },
  {
   "cell_type": "code",
   "execution_count": null,
   "id": "173f2388",
   "metadata": {},
   "outputs": [],
   "source": [
    "# 'a' 값을 기준으로 오름차순 정렬"
   ]
  },
  {
   "cell_type": "code",
   "execution_count": 9,
   "id": "583b69f3",
   "metadata": {},
   "outputs": [
    {
     "data": {
      "text/html": [
       "<div>\n",
       "<style scoped>\n",
       "    .dataframe tbody tr th:only-of-type {\n",
       "        vertical-align: middle;\n",
       "    }\n",
       "\n",
       "    .dataframe tbody tr th {\n",
       "        vertical-align: top;\n",
       "    }\n",
       "\n",
       "    .dataframe thead th {\n",
       "        text-align: right;\n",
       "    }\n",
       "</style>\n",
       "<table border=\"1\" class=\"dataframe\">\n",
       "  <thead>\n",
       "    <tr style=\"text-align: right;\">\n",
       "      <th></th>\n",
       "      <th>a</th>\n",
       "      <th>b</th>\n",
       "      <th>c</th>\n",
       "      <th>d</th>\n",
       "    </tr>\n",
       "  </thead>\n",
       "  <tbody>\n",
       "    <tr>\n",
       "      <th>2022-10-16</th>\n",
       "      <td>1.752253</td>\n",
       "      <td>-1.453679</td>\n",
       "      <td>-0.801321</td>\n",
       "      <td>0.109509</td>\n",
       "    </tr>\n",
       "    <tr>\n",
       "      <th>2022-10-17</th>\n",
       "      <td>1.379998</td>\n",
       "      <td>0.541693</td>\n",
       "      <td>0.376423</td>\n",
       "      <td>-0.413929</td>\n",
       "    </tr>\n",
       "    <tr>\n",
       "      <th>2022-10-20</th>\n",
       "      <td>1.189338</td>\n",
       "      <td>0.531700</td>\n",
       "      <td>-0.020555</td>\n",
       "      <td>0.387701</td>\n",
       "    </tr>\n",
       "    <tr>\n",
       "      <th>2022-10-18</th>\n",
       "      <td>0.030693</td>\n",
       "      <td>-1.597041</td>\n",
       "      <td>1.101697</td>\n",
       "      <td>-0.880073</td>\n",
       "    </tr>\n",
       "    <tr>\n",
       "      <th>2022-10-19</th>\n",
       "      <td>-0.479214</td>\n",
       "      <td>-1.074528</td>\n",
       "      <td>0.341792</td>\n",
       "      <td>-0.826257</td>\n",
       "    </tr>\n",
       "    <tr>\n",
       "      <th>2022-10-21</th>\n",
       "      <td>-1.623308</td>\n",
       "      <td>1.510665</td>\n",
       "      <td>1.131091</td>\n",
       "      <td>1.535374</td>\n",
       "    </tr>\n",
       "  </tbody>\n",
       "</table>\n",
       "</div>"
      ],
      "text/plain": [
       "                   a         b         c         d\n",
       "2022-10-16  1.752253 -1.453679 -0.801321  0.109509\n",
       "2022-10-17  1.379998  0.541693  0.376423 -0.413929\n",
       "2022-10-20  1.189338  0.531700 -0.020555  0.387701\n",
       "2022-10-18  0.030693 -1.597041  1.101697 -0.880073\n",
       "2022-10-19 -0.479214 -1.074528  0.341792 -0.826257\n",
       "2022-10-21 -1.623308  1.510665  1.131091  1.535374"
      ]
     },
     "execution_count": 9,
     "metadata": {},
     "output_type": "execute_result"
    }
   ],
   "source": [
    "df.sort_values(by='a', ascending=False)"
   ]
  },
  {
   "cell_type": "code",
   "execution_count": null,
   "id": "f04caa43",
   "metadata": {},
   "outputs": [],
   "source": [
    "# 'a' 값을 기준으로 내림차순 정렬"
   ]
  },
  {
   "cell_type": "code",
   "execution_count": null,
   "id": "33b54c23",
   "metadata": {},
   "outputs": [],
   "source": [
    "# dataFrame의 slice 기능, 범위 지정"
   ]
  },
  {
   "cell_type": "code",
   "execution_count": 10,
   "id": "56238a66",
   "metadata": {},
   "outputs": [
    {
     "data": {
      "text/plain": [
       "2022-10-16    1.752253\n",
       "2022-10-17    1.379998\n",
       "2022-10-18    0.030693\n",
       "2022-10-19   -0.479214\n",
       "2022-10-20    1.189338\n",
       "2022-10-21   -1.623308\n",
       "Freq: D, Name: a, dtype: float64"
      ]
     },
     "execution_count": 10,
     "metadata": {},
     "output_type": "execute_result"
    }
   ],
   "source": [
    "df['a']"
   ]
  },
  {
   "cell_type": "code",
   "execution_count": null,
   "id": "4a53d6c5",
   "metadata": {},
   "outputs": [],
   "source": [
    "# 'a' 범위의 값만 표출"
   ]
  },
  {
   "cell_type": "code",
   "execution_count": 11,
   "id": "dafcc1cc",
   "metadata": {},
   "outputs": [
    {
     "data": {
      "text/html": [
       "<div>\n",
       "<style scoped>\n",
       "    .dataframe tbody tr th:only-of-type {\n",
       "        vertical-align: middle;\n",
       "    }\n",
       "\n",
       "    .dataframe tbody tr th {\n",
       "        vertical-align: top;\n",
       "    }\n",
       "\n",
       "    .dataframe thead th {\n",
       "        text-align: right;\n",
       "    }\n",
       "</style>\n",
       "<table border=\"1\" class=\"dataframe\">\n",
       "  <thead>\n",
       "    <tr style=\"text-align: right;\">\n",
       "      <th></th>\n",
       "      <th>a</th>\n",
       "      <th>b</th>\n",
       "      <th>c</th>\n",
       "      <th>d</th>\n",
       "    </tr>\n",
       "  </thead>\n",
       "  <tbody>\n",
       "    <tr>\n",
       "      <th>2022-10-16</th>\n",
       "      <td>1.752253</td>\n",
       "      <td>-1.453679</td>\n",
       "      <td>-0.801321</td>\n",
       "      <td>0.109509</td>\n",
       "    </tr>\n",
       "    <tr>\n",
       "      <th>2022-10-17</th>\n",
       "      <td>1.379998</td>\n",
       "      <td>0.541693</td>\n",
       "      <td>0.376423</td>\n",
       "      <td>-0.413929</td>\n",
       "    </tr>\n",
       "    <tr>\n",
       "      <th>2022-10-18</th>\n",
       "      <td>0.030693</td>\n",
       "      <td>-1.597041</td>\n",
       "      <td>1.101697</td>\n",
       "      <td>-0.880073</td>\n",
       "    </tr>\n",
       "  </tbody>\n",
       "</table>\n",
       "</div>"
      ],
      "text/plain": [
       "                   a         b         c         d\n",
       "2022-10-16  1.752253 -1.453679 -0.801321  0.109509\n",
       "2022-10-17  1.379998  0.541693  0.376423 -0.413929\n",
       "2022-10-18  0.030693 -1.597041  1.101697 -0.880073"
      ]
     },
     "execution_count": 11,
     "metadata": {},
     "output_type": "execute_result"
    }
   ],
   "source": [
    "df[0:3]"
   ]
  },
  {
   "cell_type": "code",
   "execution_count": null,
   "id": "9beaac54",
   "metadata": {},
   "outputs": [],
   "source": [
    "# 3번째 index까지만 출력 (행기준)"
   ]
  },
  {
   "cell_type": "code",
   "execution_count": 12,
   "id": "9f73b8ff",
   "metadata": {},
   "outputs": [
    {
     "data": {
      "text/plain": [
       "a    1.752253\n",
       "b   -1.453679\n",
       "c   -0.801321\n",
       "d    0.109509\n",
       "Name: 2022-10-16 00:00:00, dtype: float64"
      ]
     },
     "execution_count": 12,
     "metadata": {},
     "output_type": "execute_result"
    }
   ],
   "source": [
    "df.loc['20221016']"
   ]
  },
  {
   "cell_type": "code",
   "execution_count": null,
   "id": "b6aa9386",
   "metadata": {},
   "outputs": [],
   "source": [
    "# 열기준으로 범위 선택"
   ]
  },
  {
   "cell_type": "code",
   "execution_count": 13,
   "id": "37fa209e",
   "metadata": {},
   "outputs": [
    {
     "data": {
      "text/plain": [
       "a    1.752253\n",
       "Name: 2022-10-16 00:00:00, dtype: float64"
      ]
     },
     "execution_count": 13,
     "metadata": {},
     "output_type": "execute_result"
    }
   ],
   "source": [
    "df.loc['20221016', ['a']]"
   ]
  },
  {
   "cell_type": "code",
   "execution_count": null,
   "id": "efa53a75",
   "metadata": {},
   "outputs": [],
   "source": [
    "# 여러가지 기준으로 범위 선택 : 행 열 순서로 범위 선택"
   ]
  },
  {
   "cell_type": "code",
   "execution_count": 14,
   "id": "a1e06553",
   "metadata": {},
   "outputs": [
    {
     "data": {
      "text/plain": [
       "a    1.752253\n",
       "b   -1.453679\n",
       "Name: 2022-10-16 00:00:00, dtype: float64"
      ]
     },
     "execution_count": 14,
     "metadata": {},
     "output_type": "execute_result"
    }
   ],
   "source": [
    "df.loc['20221016', ['a','b']]"
   ]
  },
  {
   "cell_type": "code",
   "execution_count": null,
   "id": "8a23c853",
   "metadata": {},
   "outputs": [],
   "source": [
    " #다수의 열 지정"
   ]
  },
  {
   "cell_type": "code",
   "execution_count": 15,
   "id": "4139a83b",
   "metadata": {},
   "outputs": [
    {
     "data": {
      "text/html": [
       "<div>\n",
       "<style scoped>\n",
       "    .dataframe tbody tr th:only-of-type {\n",
       "        vertical-align: middle;\n",
       "    }\n",
       "\n",
       "    .dataframe tbody tr th {\n",
       "        vertical-align: top;\n",
       "    }\n",
       "\n",
       "    .dataframe thead th {\n",
       "        text-align: right;\n",
       "    }\n",
       "</style>\n",
       "<table border=\"1\" class=\"dataframe\">\n",
       "  <thead>\n",
       "    <tr style=\"text-align: right;\">\n",
       "      <th></th>\n",
       "      <th>a</th>\n",
       "      <th>b</th>\n",
       "    </tr>\n",
       "  </thead>\n",
       "  <tbody>\n",
       "    <tr>\n",
       "      <th>2022-10-16</th>\n",
       "      <td>1.752253</td>\n",
       "      <td>-1.453679</td>\n",
       "    </tr>\n",
       "    <tr>\n",
       "      <th>2022-10-17</th>\n",
       "      <td>1.379998</td>\n",
       "      <td>0.541693</td>\n",
       "    </tr>\n",
       "    <tr>\n",
       "      <th>2022-10-18</th>\n",
       "      <td>0.030693</td>\n",
       "      <td>-1.597041</td>\n",
       "    </tr>\n",
       "  </tbody>\n",
       "</table>\n",
       "</div>"
      ],
      "text/plain": [
       "                   a         b\n",
       "2022-10-16  1.752253 -1.453679\n",
       "2022-10-17  1.379998  0.541693\n",
       "2022-10-18  0.030693 -1.597041"
      ]
     },
     "execution_count": 15,
     "metadata": {},
     "output_type": "execute_result"
    }
   ],
   "source": [
    "df.loc['20221016':'20221018', ['a','b']]"
   ]
  },
  {
   "cell_type": "code",
   "execution_count": null,
   "id": "9ed27eba",
   "metadata": {},
   "outputs": [],
   "source": [
    "# 다수의 행 지정"
   ]
  },
  {
   "cell_type": "code",
   "execution_count": 16,
   "id": "45a3356e",
   "metadata": {},
   "outputs": [
    {
     "data": {
      "text/html": [
       "<div>\n",
       "<style scoped>\n",
       "    .dataframe tbody tr th:only-of-type {\n",
       "        vertical-align: middle;\n",
       "    }\n",
       "\n",
       "    .dataframe tbody tr th {\n",
       "        vertical-align: top;\n",
       "    }\n",
       "\n",
       "    .dataframe thead th {\n",
       "        text-align: right;\n",
       "    }\n",
       "</style>\n",
       "<table border=\"1\" class=\"dataframe\">\n",
       "  <thead>\n",
       "    <tr style=\"text-align: right;\">\n",
       "      <th></th>\n",
       "      <th>a</th>\n",
       "      <th>b</th>\n",
       "    </tr>\n",
       "  </thead>\n",
       "  <tbody>\n",
       "    <tr>\n",
       "      <th>2022-10-16</th>\n",
       "      <td>1.752253</td>\n",
       "      <td>-1.453679</td>\n",
       "    </tr>\n",
       "    <tr>\n",
       "      <th>2022-10-17</th>\n",
       "      <td>1.379998</td>\n",
       "      <td>0.541693</td>\n",
       "    </tr>\n",
       "    <tr>\n",
       "      <th>2022-10-18</th>\n",
       "      <td>0.030693</td>\n",
       "      <td>-1.597041</td>\n",
       "    </tr>\n",
       "    <tr>\n",
       "      <th>2022-10-19</th>\n",
       "      <td>-0.479214</td>\n",
       "      <td>-1.074528</td>\n",
       "    </tr>\n",
       "    <tr>\n",
       "      <th>2022-10-20</th>\n",
       "      <td>1.189338</td>\n",
       "      <td>0.531700</td>\n",
       "    </tr>\n",
       "    <tr>\n",
       "      <th>2022-10-21</th>\n",
       "      <td>-1.623308</td>\n",
       "      <td>1.510665</td>\n",
       "    </tr>\n",
       "  </tbody>\n",
       "</table>\n",
       "</div>"
      ],
      "text/plain": [
       "                   a         b\n",
       "2022-10-16  1.752253 -1.453679\n",
       "2022-10-17  1.379998  0.541693\n",
       "2022-10-18  0.030693 -1.597041\n",
       "2022-10-19 -0.479214 -1.074528\n",
       "2022-10-20  1.189338  0.531700\n",
       "2022-10-21 -1.623308  1.510665"
      ]
     },
     "execution_count": 16,
     "metadata": {},
     "output_type": "execute_result"
    }
   ],
   "source": [
    "df.loc[:, ['a','b']]"
   ]
  },
  {
   "cell_type": "code",
   "execution_count": null,
   "id": "6f5a2c16",
   "metadata": {},
   "outputs": [],
   "source": [
    "# 전체 행 선택 / 열 범위 선택\n",
    "# > df.loc : column or index 이름 사용"
   ]
  },
  {
   "cell_type": "code",
   "execution_count": 18,
   "id": "961e132b",
   "metadata": {},
   "outputs": [
    {
     "data": {
      "text/html": [
       "<div>\n",
       "<style scoped>\n",
       "    .dataframe tbody tr th:only-of-type {\n",
       "        vertical-align: middle;\n",
       "    }\n",
       "\n",
       "    .dataframe tbody tr th {\n",
       "        vertical-align: top;\n",
       "    }\n",
       "\n",
       "    .dataframe thead th {\n",
       "        text-align: right;\n",
       "    }\n",
       "</style>\n",
       "<table border=\"1\" class=\"dataframe\">\n",
       "  <thead>\n",
       "    <tr style=\"text-align: right;\">\n",
       "      <th></th>\n",
       "      <th>a</th>\n",
       "      <th>b</th>\n",
       "      <th>c</th>\n",
       "      <th>d</th>\n",
       "    </tr>\n",
       "  </thead>\n",
       "  <tbody>\n",
       "    <tr>\n",
       "      <th>2022-10-16</th>\n",
       "      <td>1.752253</td>\n",
       "      <td>-1.453679</td>\n",
       "      <td>-0.801321</td>\n",
       "      <td>0.109509</td>\n",
       "    </tr>\n",
       "    <tr>\n",
       "      <th>2022-10-17</th>\n",
       "      <td>1.379998</td>\n",
       "      <td>0.541693</td>\n",
       "      <td>0.376423</td>\n",
       "      <td>-0.413929</td>\n",
       "    </tr>\n",
       "  </tbody>\n",
       "</table>\n",
       "</div>"
      ],
      "text/plain": [
       "                   a         b         c         d\n",
       "2022-10-16  1.752253 -1.453679 -0.801321  0.109509\n",
       "2022-10-17  1.379998  0.541693  0.376423 -0.413929"
      ]
     },
     "execution_count": 18,
     "metadata": {},
     "output_type": "execute_result"
    }
   ],
   "source": [
    "df.iloc[0:2]"
   ]
  },
  {
   "cell_type": "code",
   "execution_count": null,
   "id": "22f6e9be",
   "metadata": {},
   "outputs": [],
   "source": [
    "#0,1 번째 행 범위 선택"
   ]
  },
  {
   "cell_type": "code",
   "execution_count": 20,
   "id": "a14c3040",
   "metadata": {},
   "outputs": [
    {
     "data": {
      "text/html": [
       "<div>\n",
       "<style scoped>\n",
       "    .dataframe tbody tr th:only-of-type {\n",
       "        vertical-align: middle;\n",
       "    }\n",
       "\n",
       "    .dataframe tbody tr th {\n",
       "        vertical-align: top;\n",
       "    }\n",
       "\n",
       "    .dataframe thead th {\n",
       "        text-align: right;\n",
       "    }\n",
       "</style>\n",
       "<table border=\"1\" class=\"dataframe\">\n",
       "  <thead>\n",
       "    <tr style=\"text-align: right;\">\n",
       "      <th></th>\n",
       "      <th>a</th>\n",
       "      <th>b</th>\n",
       "    </tr>\n",
       "  </thead>\n",
       "  <tbody>\n",
       "    <tr>\n",
       "      <th>2022-10-16</th>\n",
       "      <td>1.752253</td>\n",
       "      <td>-1.453679</td>\n",
       "    </tr>\n",
       "    <tr>\n",
       "      <th>2022-10-17</th>\n",
       "      <td>1.379998</td>\n",
       "      <td>0.541693</td>\n",
       "    </tr>\n",
       "  </tbody>\n",
       "</table>\n",
       "</div>"
      ],
      "text/plain": [
       "                   a         b\n",
       "2022-10-16  1.752253 -1.453679\n",
       "2022-10-17  1.379998  0.541693"
      ]
     },
     "execution_count": 20,
     "metadata": {},
     "output_type": "execute_result"
    }
   ],
   "source": [
    "df.iloc[0:2, 0:2]"
   ]
  },
  {
   "cell_type": "code",
   "execution_count": null,
   "id": "e75d6e93",
   "metadata": {},
   "outputs": [],
   "source": [
    "# (0,1)행 (0,1)열 범위 선택"
   ]
  },
  {
   "cell_type": "code",
   "execution_count": 21,
   "id": "b31deedb",
   "metadata": {},
   "outputs": [
    {
     "data": {
      "text/html": [
       "<div>\n",
       "<style scoped>\n",
       "    .dataframe tbody tr th:only-of-type {\n",
       "        vertical-align: middle;\n",
       "    }\n",
       "\n",
       "    .dataframe tbody tr th {\n",
       "        vertical-align: top;\n",
       "    }\n",
       "\n",
       "    .dataframe thead th {\n",
       "        text-align: right;\n",
       "    }\n",
       "</style>\n",
       "<table border=\"1\" class=\"dataframe\">\n",
       "  <thead>\n",
       "    <tr style=\"text-align: right;\">\n",
       "      <th></th>\n",
       "      <th>a</th>\n",
       "      <th>b</th>\n",
       "    </tr>\n",
       "  </thead>\n",
       "  <tbody>\n",
       "    <tr>\n",
       "      <th>2022-10-16</th>\n",
       "      <td>1.752253</td>\n",
       "      <td>-1.453679</td>\n",
       "    </tr>\n",
       "    <tr>\n",
       "      <th>2022-10-17</th>\n",
       "      <td>1.379998</td>\n",
       "      <td>0.541693</td>\n",
       "    </tr>\n",
       "    <tr>\n",
       "      <th>2022-10-19</th>\n",
       "      <td>-0.479214</td>\n",
       "      <td>-1.074528</td>\n",
       "    </tr>\n",
       "  </tbody>\n",
       "</table>\n",
       "</div>"
      ],
      "text/plain": [
       "                   a         b\n",
       "2022-10-16  1.752253 -1.453679\n",
       "2022-10-17  1.379998  0.541693\n",
       "2022-10-19 -0.479214 -1.074528"
      ]
     },
     "execution_count": 21,
     "metadata": {},
     "output_type": "execute_result"
    }
   ],
   "source": [
    "df.iloc[[0,1,3], 0:2]"
   ]
  },
  {
   "cell_type": "code",
   "execution_count": null,
   "id": "976a157d",
   "metadata": {},
   "outputs": [],
   "source": [
    "# 다수의 행과 열의 범위 선택"
   ]
  },
  {
   "cell_type": "code",
   "execution_count": 22,
   "id": "0695b0ed",
   "metadata": {},
   "outputs": [
    {
     "data": {
      "text/html": [
       "<div>\n",
       "<style scoped>\n",
       "    .dataframe tbody tr th:only-of-type {\n",
       "        vertical-align: middle;\n",
       "    }\n",
       "\n",
       "    .dataframe tbody tr th {\n",
       "        vertical-align: top;\n",
       "    }\n",
       "\n",
       "    .dataframe thead th {\n",
       "        text-align: right;\n",
       "    }\n",
       "</style>\n",
       "<table border=\"1\" class=\"dataframe\">\n",
       "  <thead>\n",
       "    <tr style=\"text-align: right;\">\n",
       "      <th></th>\n",
       "      <th>a</th>\n",
       "      <th>b</th>\n",
       "      <th>c</th>\n",
       "      <th>d</th>\n",
       "    </tr>\n",
       "  </thead>\n",
       "  <tbody>\n",
       "    <tr>\n",
       "      <th>2022-10-16</th>\n",
       "      <td>1.752253</td>\n",
       "      <td>-1.453679</td>\n",
       "      <td>-0.801321</td>\n",
       "      <td>0.109509</td>\n",
       "    </tr>\n",
       "    <tr>\n",
       "      <th>2022-10-17</th>\n",
       "      <td>1.379998</td>\n",
       "      <td>0.541693</td>\n",
       "      <td>0.376423</td>\n",
       "      <td>-0.413929</td>\n",
       "    </tr>\n",
       "    <tr>\n",
       "      <th>2022-10-19</th>\n",
       "      <td>-0.479214</td>\n",
       "      <td>-1.074528</td>\n",
       "      <td>0.341792</td>\n",
       "      <td>-0.826257</td>\n",
       "    </tr>\n",
       "  </tbody>\n",
       "</table>\n",
       "</div>"
      ],
      "text/plain": [
       "                   a         b         c         d\n",
       "2022-10-16  1.752253 -1.453679 -0.801321  0.109509\n",
       "2022-10-17  1.379998  0.541693  0.376423 -0.413929\n",
       "2022-10-19 -0.479214 -1.074528  0.341792 -0.826257"
      ]
     },
     "execution_count": 22,
     "metadata": {},
     "output_type": "execute_result"
    }
   ],
   "source": [
    "df.iloc[[0,1,3]]"
   ]
  },
  {
   "cell_type": "code",
   "execution_count": null,
   "id": "920d047e",
   "metadata": {},
   "outputs": [],
   "source": [
    "# 다수의 열의 범위 선택\n",
    "# > df.iloc  : 숫자만사용"
   ]
  },
  {
   "cell_type": "code",
   "execution_count": null,
   "id": "b5ca19ac",
   "metadata": {},
   "outputs": [],
   "source": [
    "# DataFrame 내에서의 조건문 사용"
   ]
  },
  {
   "cell_type": "code",
   "execution_count": 23,
   "id": "936f48a3",
   "metadata": {},
   "outputs": [
    {
     "data": {
      "text/plain": [
       "2022-10-16     True\n",
       "2022-10-17     True\n",
       "2022-10-18     True\n",
       "2022-10-19    False\n",
       "2022-10-20     True\n",
       "2022-10-21    False\n",
       "Freq: D, Name: a, dtype: bool"
      ]
     },
     "execution_count": 23,
     "metadata": {},
     "output_type": "execute_result"
    }
   ],
   "source": [
    "df['a'] > 0"
   ]
  },
  {
   "cell_type": "code",
   "execution_count": null,
   "id": "90350d87",
   "metadata": {},
   "outputs": [],
   "source": [
    "# a 양수 : True/False"
   ]
  },
  {
   "cell_type": "code",
   "execution_count": 24,
   "id": "650babf7",
   "metadata": {},
   "outputs": [
    {
     "data": {
      "text/html": [
       "<div>\n",
       "<style scoped>\n",
       "    .dataframe tbody tr th:only-of-type {\n",
       "        vertical-align: middle;\n",
       "    }\n",
       "\n",
       "    .dataframe tbody tr th {\n",
       "        vertical-align: top;\n",
       "    }\n",
       "\n",
       "    .dataframe thead th {\n",
       "        text-align: right;\n",
       "    }\n",
       "</style>\n",
       "<table border=\"1\" class=\"dataframe\">\n",
       "  <thead>\n",
       "    <tr style=\"text-align: right;\">\n",
       "      <th></th>\n",
       "      <th>a</th>\n",
       "      <th>b</th>\n",
       "      <th>c</th>\n",
       "      <th>d</th>\n",
       "    </tr>\n",
       "  </thead>\n",
       "  <tbody>\n",
       "    <tr>\n",
       "      <th>2022-10-16</th>\n",
       "      <td>1.752253</td>\n",
       "      <td>-1.453679</td>\n",
       "      <td>-0.801321</td>\n",
       "      <td>0.109509</td>\n",
       "    </tr>\n",
       "    <tr>\n",
       "      <th>2022-10-17</th>\n",
       "      <td>1.379998</td>\n",
       "      <td>0.541693</td>\n",
       "      <td>0.376423</td>\n",
       "      <td>-0.413929</td>\n",
       "    </tr>\n",
       "    <tr>\n",
       "      <th>2022-10-18</th>\n",
       "      <td>0.030693</td>\n",
       "      <td>-1.597041</td>\n",
       "      <td>1.101697</td>\n",
       "      <td>-0.880073</td>\n",
       "    </tr>\n",
       "    <tr>\n",
       "      <th>2022-10-20</th>\n",
       "      <td>1.189338</td>\n",
       "      <td>0.531700</td>\n",
       "      <td>-0.020555</td>\n",
       "      <td>0.387701</td>\n",
       "    </tr>\n",
       "  </tbody>\n",
       "</table>\n",
       "</div>"
      ],
      "text/plain": [
       "                   a         b         c         d\n",
       "2022-10-16  1.752253 -1.453679 -0.801321  0.109509\n",
       "2022-10-17  1.379998  0.541693  0.376423 -0.413929\n",
       "2022-10-18  0.030693 -1.597041  1.101697 -0.880073\n",
       "2022-10-20  1.189338  0.531700 -0.020555  0.387701"
      ]
     },
     "execution_count": 24,
     "metadata": {},
     "output_type": "execute_result"
    }
   ],
   "source": [
    "df[df['a']> 0]"
   ]
  },
  {
   "cell_type": "code",
   "execution_count": null,
   "id": "5f674fc3",
   "metadata": {},
   "outputs": [],
   "source": [
    " # a 양수만 출력"
   ]
  },
  {
   "cell_type": "code",
   "execution_count": 25,
   "id": "63a89158",
   "metadata": {},
   "outputs": [
    {
     "data": {
      "text/html": [
       "<div>\n",
       "<style scoped>\n",
       "    .dataframe tbody tr th:only-of-type {\n",
       "        vertical-align: middle;\n",
       "    }\n",
       "\n",
       "    .dataframe tbody tr th {\n",
       "        vertical-align: top;\n",
       "    }\n",
       "\n",
       "    .dataframe thead th {\n",
       "        text-align: right;\n",
       "    }\n",
       "</style>\n",
       "<table border=\"1\" class=\"dataframe\">\n",
       "  <thead>\n",
       "    <tr style=\"text-align: right;\">\n",
       "      <th></th>\n",
       "      <th>a</th>\n",
       "      <th>b</th>\n",
       "      <th>c</th>\n",
       "      <th>d</th>\n",
       "    </tr>\n",
       "  </thead>\n",
       "  <tbody>\n",
       "    <tr>\n",
       "      <th>2022-10-16</th>\n",
       "      <td>True</td>\n",
       "      <td>False</td>\n",
       "      <td>False</td>\n",
       "      <td>True</td>\n",
       "    </tr>\n",
       "    <tr>\n",
       "      <th>2022-10-17</th>\n",
       "      <td>True</td>\n",
       "      <td>True</td>\n",
       "      <td>True</td>\n",
       "      <td>False</td>\n",
       "    </tr>\n",
       "    <tr>\n",
       "      <th>2022-10-18</th>\n",
       "      <td>True</td>\n",
       "      <td>False</td>\n",
       "      <td>True</td>\n",
       "      <td>False</td>\n",
       "    </tr>\n",
       "    <tr>\n",
       "      <th>2022-10-19</th>\n",
       "      <td>False</td>\n",
       "      <td>False</td>\n",
       "      <td>True</td>\n",
       "      <td>False</td>\n",
       "    </tr>\n",
       "    <tr>\n",
       "      <th>2022-10-20</th>\n",
       "      <td>True</td>\n",
       "      <td>True</td>\n",
       "      <td>False</td>\n",
       "      <td>True</td>\n",
       "    </tr>\n",
       "    <tr>\n",
       "      <th>2022-10-21</th>\n",
       "      <td>False</td>\n",
       "      <td>True</td>\n",
       "      <td>True</td>\n",
       "      <td>True</td>\n",
       "    </tr>\n",
       "  </tbody>\n",
       "</table>\n",
       "</div>"
      ],
      "text/plain": [
       "                a      b      c      d\n",
       "2022-10-16   True  False  False   True\n",
       "2022-10-17   True   True   True  False\n",
       "2022-10-18   True  False   True  False\n",
       "2022-10-19  False  False   True  False\n",
       "2022-10-20   True   True  False   True\n",
       "2022-10-21  False   True   True   True"
      ]
     },
     "execution_count": 25,
     "metadata": {},
     "output_type": "execute_result"
    }
   ],
   "source": [
    "df > 0"
   ]
  },
  {
   "cell_type": "code",
   "execution_count": null,
   "id": "de71fa09",
   "metadata": {},
   "outputs": [],
   "source": [
    "# 전체 양수 : True/False"
   ]
  },
  {
   "cell_type": "code",
   "execution_count": 26,
   "id": "d3629565",
   "metadata": {},
   "outputs": [
    {
     "data": {
      "text/html": [
       "<div>\n",
       "<style scoped>\n",
       "    .dataframe tbody tr th:only-of-type {\n",
       "        vertical-align: middle;\n",
       "    }\n",
       "\n",
       "    .dataframe tbody tr th {\n",
       "        vertical-align: top;\n",
       "    }\n",
       "\n",
       "    .dataframe thead th {\n",
       "        text-align: right;\n",
       "    }\n",
       "</style>\n",
       "<table border=\"1\" class=\"dataframe\">\n",
       "  <thead>\n",
       "    <tr style=\"text-align: right;\">\n",
       "      <th></th>\n",
       "      <th>a</th>\n",
       "      <th>b</th>\n",
       "      <th>c</th>\n",
       "      <th>d</th>\n",
       "    </tr>\n",
       "  </thead>\n",
       "  <tbody>\n",
       "    <tr>\n",
       "      <th>2022-10-16</th>\n",
       "      <td>1.752253</td>\n",
       "      <td>NaN</td>\n",
       "      <td>NaN</td>\n",
       "      <td>0.109509</td>\n",
       "    </tr>\n",
       "    <tr>\n",
       "      <th>2022-10-17</th>\n",
       "      <td>1.379998</td>\n",
       "      <td>0.541693</td>\n",
       "      <td>0.376423</td>\n",
       "      <td>NaN</td>\n",
       "    </tr>\n",
       "    <tr>\n",
       "      <th>2022-10-18</th>\n",
       "      <td>0.030693</td>\n",
       "      <td>NaN</td>\n",
       "      <td>1.101697</td>\n",
       "      <td>NaN</td>\n",
       "    </tr>\n",
       "    <tr>\n",
       "      <th>2022-10-19</th>\n",
       "      <td>NaN</td>\n",
       "      <td>NaN</td>\n",
       "      <td>0.341792</td>\n",
       "      <td>NaN</td>\n",
       "    </tr>\n",
       "    <tr>\n",
       "      <th>2022-10-20</th>\n",
       "      <td>1.189338</td>\n",
       "      <td>0.531700</td>\n",
       "      <td>NaN</td>\n",
       "      <td>0.387701</td>\n",
       "    </tr>\n",
       "    <tr>\n",
       "      <th>2022-10-21</th>\n",
       "      <td>NaN</td>\n",
       "      <td>1.510665</td>\n",
       "      <td>1.131091</td>\n",
       "      <td>1.535374</td>\n",
       "    </tr>\n",
       "  </tbody>\n",
       "</table>\n",
       "</div>"
      ],
      "text/plain": [
       "                   a         b         c         d\n",
       "2022-10-16  1.752253       NaN       NaN  0.109509\n",
       "2022-10-17  1.379998  0.541693  0.376423       NaN\n",
       "2022-10-18  0.030693       NaN  1.101697       NaN\n",
       "2022-10-19       NaN       NaN  0.341792       NaN\n",
       "2022-10-20  1.189338  0.531700       NaN  0.387701\n",
       "2022-10-21       NaN  1.510665  1.131091  1.535374"
      ]
     },
     "execution_count": 26,
     "metadata": {},
     "output_type": "execute_result"
    }
   ],
   "source": [
    "df[df>0]"
   ]
  },
  {
   "cell_type": "code",
   "execution_count": null,
   "id": "d2f0aca4",
   "metadata": {},
   "outputs": [],
   "source": [
    "# 전체 양수만 출력"
   ]
  },
  {
   "cell_type": "code",
   "execution_count": null,
   "id": "f7db9dae",
   "metadata": {},
   "outputs": [],
   "source": [
    "# 행과 열의 변경"
   ]
  },
  {
   "cell_type": "code",
   "execution_count": 28,
   "id": "237bfc98",
   "metadata": {},
   "outputs": [
    {
     "data": {
      "text/html": [
       "<div>\n",
       "<style scoped>\n",
       "    .dataframe tbody tr th:only-of-type {\n",
       "        vertical-align: middle;\n",
       "    }\n",
       "\n",
       "    .dataframe tbody tr th {\n",
       "        vertical-align: top;\n",
       "    }\n",
       "\n",
       "    .dataframe thead th {\n",
       "        text-align: right;\n",
       "    }\n",
       "</style>\n",
       "<table border=\"1\" class=\"dataframe\">\n",
       "  <thead>\n",
       "    <tr style=\"text-align: right;\">\n",
       "      <th></th>\n",
       "      <th>a</th>\n",
       "      <th>c</th>\n",
       "      <th>d</th>\n",
       "      <th>b</th>\n",
       "    </tr>\n",
       "  </thead>\n",
       "  <tbody>\n",
       "    <tr>\n",
       "      <th>2022-10-16</th>\n",
       "      <td>1.752253</td>\n",
       "      <td>-0.801321</td>\n",
       "      <td>0.109509</td>\n",
       "      <td>-1.453679</td>\n",
       "    </tr>\n",
       "    <tr>\n",
       "      <th>2022-10-17</th>\n",
       "      <td>1.379998</td>\n",
       "      <td>0.376423</td>\n",
       "      <td>-0.413929</td>\n",
       "      <td>0.541693</td>\n",
       "    </tr>\n",
       "    <tr>\n",
       "      <th>2022-10-18</th>\n",
       "      <td>0.030693</td>\n",
       "      <td>1.101697</td>\n",
       "      <td>-0.880073</td>\n",
       "      <td>-1.597041</td>\n",
       "    </tr>\n",
       "    <tr>\n",
       "      <th>2022-10-19</th>\n",
       "      <td>-0.479214</td>\n",
       "      <td>0.341792</td>\n",
       "      <td>-0.826257</td>\n",
       "      <td>-1.074528</td>\n",
       "    </tr>\n",
       "    <tr>\n",
       "      <th>2022-10-20</th>\n",
       "      <td>1.189338</td>\n",
       "      <td>-0.020555</td>\n",
       "      <td>0.387701</td>\n",
       "      <td>0.531700</td>\n",
       "    </tr>\n",
       "    <tr>\n",
       "      <th>2022-10-21</th>\n",
       "      <td>-1.623308</td>\n",
       "      <td>1.131091</td>\n",
       "      <td>1.535374</td>\n",
       "      <td>1.510665</td>\n",
       "    </tr>\n",
       "  </tbody>\n",
       "</table>\n",
       "</div>"
      ],
      "text/plain": [
       "                   a         c         d         b\n",
       "2022-10-16  1.752253 -0.801321  0.109509 -1.453679\n",
       "2022-10-17  1.379998  0.376423 -0.413929  0.541693\n",
       "2022-10-18  0.030693  1.101697 -0.880073 -1.597041\n",
       "2022-10-19 -0.479214  0.341792 -0.826257 -1.074528\n",
       "2022-10-20  1.189338 -0.020555  0.387701  0.531700\n",
       "2022-10-21 -1.623308  1.131091  1.535374  1.510665"
      ]
     },
     "execution_count": 28,
     "metadata": {},
     "output_type": "execute_result"
    }
   ],
   "source": [
    "df2 = pd.DataFrame(df, columns=['a','c', 'd', 'b'])\n",
    "df2"
   ]
  },
  {
   "cell_type": "code",
   "execution_count": null,
   "id": "adabaea3",
   "metadata": {},
   "outputs": [],
   "source": [
    "# column 위치 변경"
   ]
  },
  {
   "cell_type": "code",
   "execution_count": 29,
   "id": "2f83ecdc",
   "metadata": {},
   "outputs": [],
   "source": [
    "df['e'] =np.nan "
   ]
  },
  {
   "cell_type": "code",
   "execution_count": null,
   "id": "fb7f8edf",
   "metadata": {},
   "outputs": [],
   "source": [
    "# 'e' 열 추가"
   ]
  },
  {
   "cell_type": "code",
   "execution_count": 30,
   "id": "cb3d0cbd",
   "metadata": {},
   "outputs": [],
   "source": [
    "df.loc['20221020','e'] = 0.2"
   ]
  },
  {
   "cell_type": "code",
   "execution_count": null,
   "id": "950aef55",
   "metadata": {},
   "outputs": [],
   "source": [
    "# 해당 행, 열 값 지정"
   ]
  },
  {
   "cell_type": "code",
   "execution_count": 31,
   "id": "744d6e69",
   "metadata": {},
   "outputs": [
    {
     "data": {
      "text/html": [
       "<div>\n",
       "<style scoped>\n",
       "    .dataframe tbody tr th:only-of-type {\n",
       "        vertical-align: middle;\n",
       "    }\n",
       "\n",
       "    .dataframe tbody tr th {\n",
       "        vertical-align: top;\n",
       "    }\n",
       "\n",
       "    .dataframe thead th {\n",
       "        text-align: right;\n",
       "    }\n",
       "</style>\n",
       "<table border=\"1\" class=\"dataframe\">\n",
       "  <thead>\n",
       "    <tr style=\"text-align: right;\">\n",
       "      <th></th>\n",
       "      <th>a</th>\n",
       "      <th>b</th>\n",
       "      <th>c</th>\n",
       "      <th>d</th>\n",
       "      <th>e</th>\n",
       "      <th>f</th>\n",
       "    </tr>\n",
       "  </thead>\n",
       "  <tbody>\n",
       "    <tr>\n",
       "      <th>2022-10-16</th>\n",
       "      <td>1.752253</td>\n",
       "      <td>-1.453679</td>\n",
       "      <td>-0.801321</td>\n",
       "      <td>0.109509</td>\n",
       "      <td>NaN</td>\n",
       "      <td>0.298575</td>\n",
       "    </tr>\n",
       "    <tr>\n",
       "      <th>2022-10-17</th>\n",
       "      <td>1.379998</td>\n",
       "      <td>0.541693</td>\n",
       "      <td>0.376423</td>\n",
       "      <td>-0.413929</td>\n",
       "      <td>NaN</td>\n",
       "      <td>1.921691</td>\n",
       "    </tr>\n",
       "    <tr>\n",
       "      <th>2022-10-18</th>\n",
       "      <td>0.030693</td>\n",
       "      <td>-1.597041</td>\n",
       "      <td>1.101697</td>\n",
       "      <td>-0.880073</td>\n",
       "      <td>NaN</td>\n",
       "      <td>-1.566348</td>\n",
       "    </tr>\n",
       "    <tr>\n",
       "      <th>2022-10-19</th>\n",
       "      <td>-0.479214</td>\n",
       "      <td>-1.074528</td>\n",
       "      <td>0.341792</td>\n",
       "      <td>-0.826257</td>\n",
       "      <td>NaN</td>\n",
       "      <td>-1.553742</td>\n",
       "    </tr>\n",
       "    <tr>\n",
       "      <th>2022-10-20</th>\n",
       "      <td>1.189338</td>\n",
       "      <td>0.531700</td>\n",
       "      <td>-0.020555</td>\n",
       "      <td>0.387701</td>\n",
       "      <td>0.2</td>\n",
       "      <td>1.721038</td>\n",
       "    </tr>\n",
       "    <tr>\n",
       "      <th>2022-10-21</th>\n",
       "      <td>-1.623308</td>\n",
       "      <td>1.510665</td>\n",
       "      <td>1.131091</td>\n",
       "      <td>1.535374</td>\n",
       "      <td>NaN</td>\n",
       "      <td>-0.112643</td>\n",
       "    </tr>\n",
       "  </tbody>\n",
       "</table>\n",
       "</div>"
      ],
      "text/plain": [
       "                   a         b         c         d    e         f\n",
       "2022-10-16  1.752253 -1.453679 -0.801321  0.109509  NaN  0.298575\n",
       "2022-10-17  1.379998  0.541693  0.376423 -0.413929  NaN  1.921691\n",
       "2022-10-18  0.030693 -1.597041  1.101697 -0.880073  NaN -1.566348\n",
       "2022-10-19 -0.479214 -1.074528  0.341792 -0.826257  NaN -1.553742\n",
       "2022-10-20  1.189338  0.531700 -0.020555  0.387701  0.2  1.721038\n",
       "2022-10-21 -1.623308  1.510665  1.131091  1.535374  NaN -0.112643"
      ]
     },
     "execution_count": 31,
     "metadata": {},
     "output_type": "execute_result"
    }
   ],
   "source": [
    "df['f'] = df['a'] + df['b']\n",
    "df"
   ]
  },
  {
   "cell_type": "code",
   "execution_count": null,
   "id": "aafb9e99",
   "metadata": {},
   "outputs": [],
   "source": [
    "# f열 생성 및 값 지정(연산)"
   ]
  },
  {
   "cell_type": "code",
   "execution_count": null,
   "id": "9142cf35",
   "metadata": {},
   "outputs": [],
   "source": []
  }
 ],
 "metadata": {
  "kernelspec": {
   "display_name": "Python 3",
   "language": "python",
   "name": "python3"
  },
  "language_info": {
   "codemirror_mode": {
    "name": "ipython",
    "version": 3
   },
   "file_extension": ".py",
   "mimetype": "text/x-python",
   "name": "python",
   "nbconvert_exporter": "python",
   "pygments_lexer": "ipython3",
   "version": "3.6.13"
  }
 },
 "nbformat": 4,
 "nbformat_minor": 5
}
